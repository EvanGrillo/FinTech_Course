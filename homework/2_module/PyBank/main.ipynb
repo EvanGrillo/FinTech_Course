{
 "cells": [
  {
   "cell_type": "code",
   "execution_count": 1,
   "id": "7c7c3f78-06b6-4212-b0ad-e0441794902b",
   "metadata": {
    "tags": []
   },
   "outputs": [
    {
     "name": "stdout",
     "output_type": "stream",
     "text": [
      "\n",
      "Total Months: 86\n",
      "Total: $38382578\n",
      "Average Change: $-2315.12\n",
      "Greatest Increase in Profits: Feb-2012 $1926159\n",
      "Greatest Decrease in Profits: Sep-2013 $-2196167\n",
      "\n"
     ]
    }
   ],
   "source": [
    "import csv\n",
    "\n",
    "total_months = 0\n",
    "total = 0\n",
    "max_increase = {\n",
    "    'date': '',\n",
    "    'amount': 0\n",
    "}\n",
    "max_decrease = {\n",
    "    'date': '',\n",
    "    'amount': 0\n",
    "}\n",
    "\n",
    "price_changes = []\n",
    "\n",
    "with open('Resources/budget_data.csv') as f:\n",
    "    \n",
    "    # create list skipping header\n",
    "    lines = f.readlines()[1:]\n",
    "    \n",
    "    # Skip header line in list, start at index 1\n",
    "    for i, line in enumerate(lines):\n",
    "        \n",
    "        # Use String split to parse row values with comma delimiter\n",
    "        val1,val2 = line.split(',', 1)\n",
    "        \n",
    "        total_months += 1\n",
    "        total += int(val2)\n",
    "        \n",
    "        if i == 0:continue\n",
    "            \n",
    "        prev = lines[i-1].split(',', 1)\n",
    "        \n",
    "        diff = int(val2) - int(prev[1])\n",
    "              \n",
    "        price_changes.append(diff)\n",
    "\n",
    "        if diff > max_increase['amount']: \n",
    "            max_increase['date'] = str(val1)\n",
    "            max_increase['amount'] = diff\n",
    "        if diff < max_decrease['amount']: \n",
    "            max_decrease['date'] = str(val1)\n",
    "            max_decrease['amount'] = diff\n",
    "\n",
    "\n",
    "print(\n",
    "f\"\"\"\n",
    "Total Months: {total_months}\n",
    "Total: ${total}\n",
    "Average Change: ${round(sum(price_changes) / len(price_changes), 2)}\n",
    "Greatest Increase in Profits: {max_increase[\"date\"]} ${max_increase[\"amount\"]}\n",
    "Greatest Decrease in Profits: {max_decrease[\"date\"]} ${max_decrease[\"amount\"]}\n",
    "\"\"\"\n",
    ")\n"
   ]
  },
  {
   "cell_type": "code",
   "execution_count": null,
   "id": "5df4ac97-daa4-43c9-aa07-f698fcf71fef",
   "metadata": {},
   "outputs": [],
   "source": []
  }
 ],
 "metadata": {
  "kernelspec": {
   "display_name": "Python 3 (ipykernel)",
   "language": "python",
   "name": "python3"
  },
  "language_info": {
   "codemirror_mode": {
    "name": "ipython",
    "version": 3
   },
   "file_extension": ".py",
   "mimetype": "text/x-python",
   "name": "python",
   "nbconvert_exporter": "python",
   "pygments_lexer": "ipython3",
   "version": "3.11.5"
  }
 },
 "nbformat": 4,
 "nbformat_minor": 5
}
