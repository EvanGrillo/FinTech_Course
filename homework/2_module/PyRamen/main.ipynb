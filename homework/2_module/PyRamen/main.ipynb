{
 "cells": [
  {
   "cell_type": "code",
   "execution_count": 1,
   "id": "ec244c7f-b5ce-4d7a-97f0-0b1a0f5c0819",
   "metadata": {
    "tags": []
   },
   "outputs": [],
   "source": [
    "import csv\n",
    "\n",
    "# keys of menu items with nested dicts including key properties\n",
    "menu = {}\n",
    "#keys of sale items with nested dicts including key metrics\n",
    "report = {}"
   ]
  },
  {
   "cell_type": "code",
   "execution_count": 2,
   "id": "47df8955-75ab-44f5-9ecb-46a7b45ebf35",
   "metadata": {},
   "outputs": [],
   "source": [
    "with open('Resources/menu_data.csv') as f:\n",
    "    reader = csv.reader(f)\n",
    "    next(reader)\n",
    "    \n",
    "    for row in reader:\n",
    "        \n",
    "        #destructure string into variables\n",
    "        item, category, description, price, cost = row\n",
    "        \n",
    "        menu[item] = {\n",
    "            \"price\": price,\n",
    "            \"cost\": cost\n",
    "        }"
   ]
  },
  {
   "cell_type": "code",
   "execution_count": 3,
   "id": "525acd0b-fd90-4ae5-9c4f-b39639b3c779",
   "metadata": {
    "tags": []
   },
   "outputs": [],
   "source": [
    "with open('Resources/sales_data.csv') as f:\n",
    "    reader = csv.reader(f)\n",
    "    next(reader)\n",
    "    \n",
    "    for row in reader:\n",
    "        \n",
    "        #destructure string into variables\n",
    "        id, date, cc, qty, item = row\n",
    "        \n",
    "        qty = int(qty)\n",
    "        \n",
    "        #get menu item\n",
    "        menu_item = menu[item]\n",
    "        price = int(menu_item[\"price\"])\n",
    "        cost = int(menu_item[\"cost\"])\n",
    "        profit = price - cost\n",
    "        \n",
    "        if item not in report:\n",
    "            report[item] = {\n",
    "                '01-count': qty,\n",
    "                '02-revenue': price * qty,\n",
    "                '03-cogs': cost * qty,\n",
    "                '04-profit': profit * qty\n",
    "            }\n",
    "        else:\n",
    "            report[item][\"01-count\"] += qty\n",
    "            report[item][\"02-revenue\"] += price * qty\n",
    "            report[item][\"03-cogs\"] += cost * qty\n",
    "            report[item][\"04-profit\"] += profit * qty"
   ]
  },
  {
   "cell_type": "code",
   "execution_count": 4,
   "id": "898791f1-d66f-479a-92d4-7213a62091bc",
   "metadata": {
    "tags": []
   },
   "outputs": [
    {
     "name": "stdout",
     "output_type": "stream",
     "text": [
      "{'spicy miso ramen': {'01-count': 9238, '02-revenue': 110856, '03-cogs': 46190, '04-profit': 64666}, 'tori paitan ramen': {'01-count': 9156, '02-revenue': 119028, '03-cogs': 54936, '04-profit': 64092}, 'truffle butter ramen': {'01-count': 8982, '02-revenue': 125748, '03-cogs': 62874, '04-profit': 62874}, 'tonkotsu ramen': {'01-count': 9288, '02-revenue': 120744, '03-cogs': 55728, '04-profit': 65016}, 'vegetarian spicy miso': {'01-count': 9216, '02-revenue': 110592, '03-cogs': 46080, '04-profit': 64512}, 'shio ramen': {'01-count': 9180, '02-revenue': 100980, '03-cogs': 45900, '04-profit': 55080}, 'miso crab ramen': {'01-count': 8890, '02-revenue': 106680, '03-cogs': 53340, '04-profit': 53340}, 'nagomi shoyu': {'01-count': 9132, '02-revenue': 100452, '03-cogs': 45660, '04-profit': 54792}, 'soft-shell miso crab ramen': {'01-count': 9130, '02-revenue': 127820, '03-cogs': 63910, '04-profit': 63910}, 'burnt garlic tonkotsu ramen': {'01-count': 9070, '02-revenue': 126980, '03-cogs': 54420, '04-profit': 72560}, 'vegetarian curry + king trumpet mushroom ramen': {'01-count': 8824, '02-revenue': 114712, '03-cogs': 61768, '04-profit': 52944}}\n"
     ]
    }
   ],
   "source": [
    "print(report)"
   ]
  },
  {
   "cell_type": "code",
   "execution_count": null,
   "id": "2a1a5792-abdd-43bf-bf32-4489c6a49d4a",
   "metadata": {
    "tags": []
   },
   "outputs": [],
   "source": []
  }
 ],
 "metadata": {
  "kernelspec": {
   "display_name": "Python 3 (ipykernel)",
   "language": "python",
   "name": "python3"
  },
  "language_info": {
   "codemirror_mode": {
    "name": "ipython",
    "version": 3
   },
   "file_extension": ".py",
   "mimetype": "text/x-python",
   "name": "python",
   "nbconvert_exporter": "python",
   "pygments_lexer": "ipython3",
   "version": "3.11.5"
  }
 },
 "nbformat": 4,
 "nbformat_minor": 5
}
