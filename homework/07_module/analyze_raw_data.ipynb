{
 "cells": [
  {
   "cell_type": "code",
   "execution_count": 1,
   "id": "707113e0-0c52-47f3-ba1d-f105ec9ad129",
   "metadata": {
    "tags": []
   },
   "outputs": [
    {
     "name": "stdout",
     "output_type": "stream",
     "text": [
      "max_holder_length is 17\n",
      "max_card_length is 19\n",
      "max_merchant_length is 29\n",
      "max_merchant_category_length is 11\n"
     ]
    }
   ],
   "source": [
    "import csv\n",
    "from pathlib import Path\n",
    "\n",
    "files = [\n",
    "    {\n",
    "        'path': Path('./Data/card_holder.csv'),\n",
    "        'col': 'name',\n",
    "        'value': float('-inf'),\n",
    "        'var': 'max_holder_length'\n",
    "    },\n",
    "    {\n",
    "        'path': Path('./Data/credit_card.csv'),\n",
    "        'col': 'card',\n",
    "        'value': float('-inf'),\n",
    "        'var': 'max_card_length'\n",
    "    },\n",
    "    {\n",
    "        'path': Path('./Data/merchant.csv'),\n",
    "        'col': 'name',\n",
    "        'value': float('-inf'),\n",
    "        'var': 'max_merchant_length'\n",
    "    },\n",
    "    {\n",
    "        'path': Path('./Data/merchant_category.csv'),\n",
    "        'col': 'name',\n",
    "        'value': float('-inf'),\n",
    "        'var': 'max_merchant_category_length'\n",
    "    }\n",
    "]\n",
    "\n",
    "for f in files:\n",
    "    path = f['path']\n",
    "    with open(path) as cc:\n",
    "        reader = csv.DictReader(cc)\n",
    "        col = f['col']\n",
    "        for row in reader:\n",
    "            if (len(row[col]) > f['value']): f['value'] = len(row[col])\n",
    "\n",
    "\n",
    "    print(f'{f[\"var\"]} is {f[\"value\"]}')\n"
   ]
  },
  {
   "cell_type": "code",
   "execution_count": null,
   "id": "4bffe3a9-0ef7-4986-b356-73fd93e67250",
   "metadata": {},
   "outputs": [],
   "source": []
  }
 ],
 "metadata": {
  "kernelspec": {
   "display_name": "Python 3 (ipykernel)",
   "language": "python",
   "name": "python3"
  },
  "language_info": {
   "codemirror_mode": {
    "name": "ipython",
    "version": 3
   },
   "file_extension": ".py",
   "mimetype": "text/x-python",
   "name": "python",
   "nbconvert_exporter": "python",
   "pygments_lexer": "ipython3",
   "version": "3.10.13"
  }
 },
 "nbformat": 4,
 "nbformat_minor": 5
}
