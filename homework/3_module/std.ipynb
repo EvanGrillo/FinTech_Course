{
 "cells": [
  {
   "cell_type": "code",
   "execution_count": 38,
   "id": "5b71670f-f6bb-47af-8eae-fc51d0139fd6",
   "metadata": {
    "tags": []
   },
   "outputs": [],
   "source": [
    "import math\n",
    "import pandas as pd\n",
    "import random\n",
    "\n",
    "int_list = []\n",
    "\n",
    "for i in range(252*4):\n",
    "    int_list.append(random.randint(-1000,1000))\n",
    "\n",
    "data =  {\n",
    "    'Date': pd.date_range('2020-01-01', periods=252*4),\n",
    "    'Price': int_list\n",
    "}"
   ]
  },
  {
   "cell_type": "code",
   "execution_count": 25,
   "id": "64b55d67-5f35-40fb-b766-62e19b62f0f1",
   "metadata": {
    "tags": []
   },
   "outputs": [
    {
     "data": {
      "text/html": [
       "<div>\n",
       "<style scoped>\n",
       "    .dataframe tbody tr th:only-of-type {\n",
       "        vertical-align: middle;\n",
       "    }\n",
       "\n",
       "    .dataframe tbody tr th {\n",
       "        vertical-align: top;\n",
       "    }\n",
       "\n",
       "    .dataframe thead th {\n",
       "        text-align: right;\n",
       "    }\n",
       "</style>\n",
       "<table border=\"1\" class=\"dataframe\">\n",
       "  <thead>\n",
       "    <tr style=\"text-align: right;\">\n",
       "      <th></th>\n",
       "      <th>Price</th>\n",
       "      <th>Rolling_4_std</th>\n",
       "    </tr>\n",
       "    <tr>\n",
       "      <th>Date</th>\n",
       "      <th></th>\n",
       "      <th></th>\n",
       "    </tr>\n",
       "  </thead>\n",
       "  <tbody>\n",
       "    <tr>\n",
       "      <th>2020-01-01</th>\n",
       "      <td>144</td>\n",
       "      <td>NaN</td>\n",
       "    </tr>\n",
       "    <tr>\n",
       "      <th>2020-01-02</th>\n",
       "      <td>-361</td>\n",
       "      <td>357.088924</td>\n",
       "    </tr>\n",
       "    <tr>\n",
       "      <th>2020-01-03</th>\n",
       "      <td>-697</td>\n",
       "      <td>237.587878</td>\n",
       "    </tr>\n",
       "    <tr>\n",
       "      <th>2020-01-04</th>\n",
       "      <td>693</td>\n",
       "      <td>982.878426</td>\n",
       "    </tr>\n",
       "    <tr>\n",
       "      <th>2020-01-05</th>\n",
       "      <td>146</td>\n",
       "      <td>386.787409</td>\n",
       "    </tr>\n",
       "  </tbody>\n",
       "</table>\n",
       "</div>"
      ],
      "text/plain": [
       "            Price  Rolling_4_std\n",
       "Date                            \n",
       "2020-01-01    144            NaN\n",
       "2020-01-02   -361     357.088924\n",
       "2020-01-03   -697     237.587878\n",
       "2020-01-04    693     982.878426\n",
       "2020-01-05    146     386.787409"
      ]
     },
     "metadata": {},
     "output_type": "display_data"
    },
    {
     "data": {
      "text/html": [
       "<div>\n",
       "<style scoped>\n",
       "    .dataframe tbody tr th:only-of-type {\n",
       "        vertical-align: middle;\n",
       "    }\n",
       "\n",
       "    .dataframe tbody tr th {\n",
       "        vertical-align: top;\n",
       "    }\n",
       "\n",
       "    .dataframe thead th {\n",
       "        text-align: right;\n",
       "    }\n",
       "</style>\n",
       "<table border=\"1\" class=\"dataframe\">\n",
       "  <thead>\n",
       "    <tr style=\"text-align: right;\">\n",
       "      <th></th>\n",
       "      <th>Price</th>\n",
       "      <th>Rolling_4_std</th>\n",
       "    </tr>\n",
       "    <tr>\n",
       "      <th>Date</th>\n",
       "      <th></th>\n",
       "      <th></th>\n",
       "    </tr>\n",
       "  </thead>\n",
       "  <tbody>\n",
       "    <tr>\n",
       "      <th>2022-09-30</th>\n",
       "      <td>-348</td>\n",
       "      <td>253.851334</td>\n",
       "    </tr>\n",
       "    <tr>\n",
       "      <th>2022-10-01</th>\n",
       "      <td>-302</td>\n",
       "      <td>32.526912</td>\n",
       "    </tr>\n",
       "    <tr>\n",
       "      <th>2022-10-02</th>\n",
       "      <td>854</td>\n",
       "      <td>817.415439</td>\n",
       "    </tr>\n",
       "    <tr>\n",
       "      <th>2022-10-03</th>\n",
       "      <td>-648</td>\n",
       "      <td>1062.074385</td>\n",
       "    </tr>\n",
       "    <tr>\n",
       "      <th>2022-10-04</th>\n",
       "      <td>155</td>\n",
       "      <td>567.806745</td>\n",
       "    </tr>\n",
       "  </tbody>\n",
       "</table>\n",
       "</div>"
      ],
      "text/plain": [
       "            Price  Rolling_4_std\n",
       "Date                            \n",
       "2022-09-30   -348     253.851334\n",
       "2022-10-01   -302      32.526912\n",
       "2022-10-02    854     817.415439\n",
       "2022-10-03   -648    1062.074385\n",
       "2022-10-04    155     567.806745"
      ]
     },
     "metadata": {},
     "output_type": "display_data"
    }
   ],
   "source": [
    "\n",
    "df = pd.DataFrame(data)\n",
    "\n",
    "df['Date'] = pd.to_datetime(df['Date'])\n",
    "df.set_index('Date', inplace=True)\n",
    "df[\"Rolling_4_std\"] = df.rolling(window=2).std()\n",
    "display(df.head())\n",
    "display(df.tail())"
   ]
  },
  {
   "cell_type": "code",
   "execution_count": 29,
   "id": "d4cbd6ca-14cc-497c-9c68-f6bf56dc1166",
   "metadata": {
    "tags": []
   },
   "outputs": [],
   "source": [
    "import math\n",
    "\n",
    "class PyFinCalculator:\n",
    "    \n",
    "    def __init__(self, numbers):\n",
    "        self.numbers = numbers\n",
    "    \n",
    "    @classmethod\n",
    "    def mean(cls, numbers: list[int]) -> float:\n",
    "        return sum(numbers) / len(numbers)\n",
    "    \n",
    "    @classmethod\n",
    "    def rolling_mean(cls, numbers: list[int], win: int) -> list[float]:\n",
    "        rolling_means = []\n",
    "\n",
    "        for i in range(len(numbers)):\n",
    "            if i < win - 1:\n",
    "                rolling_means.append(None)\n",
    "            else:\n",
    "                window_list = numbers[i - win + 1:i + 1]\n",
    "                mean = sum(window_list) / win\n",
    "                rolling_means.append(mean)\n",
    "\n",
    "        return rolling_means\n",
    "\n",
    "    @classmethod\n",
    "    def standardDeviation(cls, numbers: list[int]) -> float:\n",
    "        m = cls.mean(numbers)\n",
    "        variance = sum((n - m) ** 2 for n in numbers) / len(numbers)\n",
    "        return math.sqrt(variance)\n",
    "    \n",
    "    @classmethod\n",
    "    def rolling_standardDeviation(cls, numbers: list[int], win: int) -> list[float]:\n",
    "        manual_rolling_std = []\n",
    "\n",
    "        for i in range(len(numbers)):\n",
    "            if i < win - 1:\n",
    "                manual_rolling_std.append(math.nan)\n",
    "            else:\n",
    "                window_list = numbers[i - win + 1:i + 1]\n",
    "                std_dev = cls.standardDeviation(window_list)\n",
    "                manual_rolling_std.append(std_dev)\n",
    "\n",
    "        return manual_rolling_std"
   ]
  },
  {
   "cell_type": "code",
   "execution_count": 58,
   "id": "0f80f097-f3fb-4892-afac-62988ac13e25",
   "metadata": {
    "tags": []
   },
   "outputs": [],
   "source": [
    "import random\n",
    "from tabulate import tabulate\n",
    "\n",
    "class DataFrame:\n",
    "    \n",
    "    def __init__(self, data):\n",
    "        self.data = data\n",
    "    \n",
    "    def head(self, n=5):\n",
    "        header = list(self.data.keys())\n",
    "        rows = list(self.data[key][:n] for key in header)\n",
    "        return tabulate(rows, headers=header)\n",
    "    \n",
    "    def tail(self, n=5):\n",
    "        return {key: value[-n:] for key, value in self.data.items()}\n",
    "    \n",
    "    def sample(self, n=1):\n",
    "        keys = random.sample(list(self.data.keys()), n)\n",
    "        return {key: self.data[key] for key in keys}"
   ]
  },
  {
   "cell_type": "code",
   "execution_count": 59,
   "id": "2c37e85d-817d-4c03-afb8-3b7507e05257",
   "metadata": {
    "tags": []
   },
   "outputs": [
    {
     "data": {
      "text/plain": [
       "'Date                 Price\\n-------------------  -------------------\\n2020-01-01 00:00:00  2020-01-02 00:00:00\\n94                   519'"
      ]
     },
     "execution_count": 59,
     "metadata": {},
     "output_type": "execute_result"
    }
   ],
   "source": [
    "df = DataFrame(data)\n",
    "\n",
    "df.head(2)"
   ]
  },
  {
   "cell_type": "code",
   "execution_count": null,
   "id": "dfbe935c-572c-43ba-825a-cd32cf519787",
   "metadata": {},
   "outputs": [],
   "source": []
  }
 ],
 "metadata": {
  "kernelspec": {
   "display_name": "Python 3 (ipykernel)",
   "language": "python",
   "name": "python3"
  },
  "language_info": {
   "codemirror_mode": {
    "name": "ipython",
    "version": 3
   },
   "file_extension": ".py",
   "mimetype": "text/x-python",
   "name": "python",
   "nbconvert_exporter": "python",
   "pygments_lexer": "ipython3",
   "version": "3.11.5"
  }
 },
 "nbformat": 4,
 "nbformat_minor": 5
}
