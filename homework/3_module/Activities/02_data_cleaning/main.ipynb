{
 "cells": [
  {
   "cell_type": "code",
   "execution_count": 1,
   "id": "cf1245b4-56a0-41f0-b236-546fe3c5fa7b",
   "metadata": {
    "tags": []
   },
   "outputs": [],
   "source": [
    "import pandas as pd\n",
    "from pathlib import Path\n",
    "\n",
    "p = Path(\"Resources/order_data.csv\")\n",
    "\n",
    "df = pd.read_csv(p)"
   ]
  },
  {
   "cell_type": "code",
   "execution_count": 8,
   "id": "8efa1beb-47d4-4f2c-ae91-9eb947ddd41d",
   "metadata": {
    "tags": []
   },
   "outputs": [
    {
     "data": {
      "text/plain": [
       "order_no       False\n",
       "customer_no     True\n",
       "order_total     True\n",
       "order_date     False\n",
       "dtype: bool"
      ]
     },
     "execution_count": 8,
     "metadata": {},
     "output_type": "execute_result"
    }
   ],
   "source": [
    "# Returns bool if series item is None, NaN or NaT\n",
    "#df.isna()\n",
    "\n",
    "#df.isnull()\n",
    "\n",
    "# # Returns bool if any None, NaN or NaT values for series\n",
    "df.isna().any()"
   ]
  },
  {
   "cell_type": "code",
   "execution_count": 12,
   "id": "152bbfc5-be1d-49af-898b-1614784390b1",
   "metadata": {
    "tags": []
   },
   "outputs": [
    {
     "data": {
      "text/plain": [
       "0    False\n",
       "1    False\n",
       "2    False\n",
       "3    False\n",
       "4    False\n",
       "5    False\n",
       "6    False\n",
       "7     True\n",
       "Name: customer_no, dtype: bool"
      ]
     },
     "execution_count": 12,
     "metadata": {},
     "output_type": "execute_result"
    }
   ],
   "source": [
    "# Apply to a series, versus data frame\n",
    "df.customer_no.isna()\n",
    "\n",
    "#df.customer_no.isna().any()"
   ]
  },
  {
   "cell_type": "code",
   "execution_count": 13,
   "id": "806b45a4-1c18-495d-93cf-7764d318a099",
   "metadata": {
    "tags": []
   },
   "outputs": [
    {
     "data": {
      "text/plain": [
       "True"
      ]
     },
     "execution_count": 13,
     "metadata": {},
     "output_type": "execute_result"
    }
   ],
   "source": [
    "# Opposite is notna()\n",
    "df.order_no.notna() \n",
    "df.order_no.notna().any()"
   ]
  },
  {
   "cell_type": "code",
   "execution_count": 14,
   "id": "5bf64ff4-8c9f-4f02-9387-66703ccde26d",
   "metadata": {
    "tags": []
   },
   "outputs": [
    {
     "data": {
      "text/plain": [
       "True"
      ]
     },
     "execution_count": 14,
     "metadata": {},
     "output_type": "execute_result"
    }
   ],
   "source": [
    "# Slicing\n",
    "df.order_no[6:].notna()\n",
    "pd.notna(df.order_no.iloc[-1])"
   ]
  },
  {
   "cell_type": "code",
   "execution_count": 15,
   "id": "5ad9d8aa-6c93-48b1-9179-ca906839943c",
   "metadata": {},
   "outputs": [],
   "source": [
    "# Replace $ char to cast to float\n",
    "df.order_total = df.order_total.str.replace('$', '')"
   ]
  },
  {
   "cell_type": "code",
   "execution_count": 16,
   "id": "d0def38a-894d-4555-8e75-a7b0a5e90352",
   "metadata": {
    "tags": []
   },
   "outputs": [
    {
     "data": {
      "text/html": [
       "<div>\n",
       "<style scoped>\n",
       "    .dataframe tbody tr th:only-of-type {\n",
       "        vertical-align: middle;\n",
       "    }\n",
       "\n",
       "    .dataframe tbody tr th {\n",
       "        vertical-align: top;\n",
       "    }\n",
       "\n",
       "    .dataframe thead th {\n",
       "        text-align: right;\n",
       "    }\n",
       "</style>\n",
       "<table border=\"1\" class=\"dataframe\">\n",
       "  <thead>\n",
       "    <tr style=\"text-align: right;\">\n",
       "      <th></th>\n",
       "      <th>order_no</th>\n",
       "      <th>customer_no</th>\n",
       "      <th>order_total</th>\n",
       "      <th>order_date</th>\n",
       "    </tr>\n",
       "  </thead>\n",
       "  <tbody>\n",
       "    <tr>\n",
       "      <th>0</th>\n",
       "      <td>452517125</td>\n",
       "      <td>CM458565</td>\n",
       "      <td>141.25</td>\n",
       "      <td>01-10-2019</td>\n",
       "    </tr>\n",
       "    <tr>\n",
       "      <th>1</th>\n",
       "      <td>45251825</td>\n",
       "      <td>CJ458565</td>\n",
       "      <td>14.00</td>\n",
       "      <td>04/25/2019</td>\n",
       "    </tr>\n",
       "    <tr>\n",
       "      <th>2</th>\n",
       "      <td>4465241327</td>\n",
       "      <td>AK45765</td>\n",
       "      <td>1103.36</td>\n",
       "      <td>04-25-2019</td>\n",
       "    </tr>\n",
       "    <tr>\n",
       "      <th>3</th>\n",
       "      <td>4465241327</td>\n",
       "      <td>AK45765</td>\n",
       "      <td>1103.36</td>\n",
       "      <td>04-25-2019</td>\n",
       "    </tr>\n",
       "    <tr>\n",
       "      <th>4</th>\n",
       "      <td>413853121</td>\n",
       "      <td>CM458565</td>\n",
       "      <td>0.0</td>\n",
       "      <td>4/24/2019</td>\n",
       "    </tr>\n",
       "    <tr>\n",
       "      <th>5</th>\n",
       "      <td>45235825</td>\n",
       "      <td>TV4663</td>\n",
       "      <td>65.42</td>\n",
       "      <td>04-29-2019</td>\n",
       "    </tr>\n",
       "    <tr>\n",
       "      <th>6</th>\n",
       "      <td>2356363</td>\n",
       "      <td>2124</td>\n",
       "      <td>258936.12</td>\n",
       "      <td>04-29-2019</td>\n",
       "    </tr>\n",
       "    <tr>\n",
       "      <th>7</th>\n",
       "      <td>452519232</td>\n",
       "      <td>NaN</td>\n",
       "      <td>141.25</td>\n",
       "      <td>01-10-2019</td>\n",
       "    </tr>\n",
       "  </tbody>\n",
       "</table>\n",
       "</div>"
      ],
      "text/plain": [
       "     order_no customer_no order_total  order_date\n",
       "0   452517125    CM458565      141.25  01-10-2019\n",
       "1    45251825    CJ458565       14.00  04/25/2019\n",
       "2  4465241327     AK45765     1103.36  04-25-2019\n",
       "3  4465241327     AK45765     1103.36  04-25-2019\n",
       "4   413853121    CM458565         0.0   4/24/2019\n",
       "5    45235825      TV4663       65.42  04-29-2019\n",
       "6     2356363        2124   258936.12  04-29-2019\n",
       "7   452519232         NaN      141.25  01-10-2019"
      ]
     },
     "execution_count": 16,
     "metadata": {},
     "output_type": "execute_result"
    }
   ],
   "source": [
    "# Replace NA values with float;\n",
    "df.fillna({\n",
    "    'order_total': float(0)\n",
    "}, inplace=True)\n",
    "df.order_total.fillna(round(0, 2), inplace=True)\n",
    "\n",
    "df"
   ]
  },
  {
   "cell_type": "code",
   "execution_count": 17,
   "id": "c3ca5bff-6dac-4400-abaf-efbf074429b4",
   "metadata": {
    "tags": []
   },
   "outputs": [
    {
     "data": {
      "text/plain": [
       "0       141.25\n",
       "1        14.00\n",
       "2      1103.36\n",
       "3      1103.36\n",
       "4         0.00\n",
       "5        65.42\n",
       "6    258936.12\n",
       "7       141.25\n",
       "Name: order_total, dtype: float64"
      ]
     },
     "execution_count": 17,
     "metadata": {},
     "output_type": "execute_result"
    }
   ],
   "source": [
    "# Case to numeric\n",
    "df.order_total = df.order_total.astype(float)\n",
    "\n",
    "df.order_total"
   ]
  },
  {
   "cell_type": "code",
   "execution_count": 18,
   "id": "7ba54d9f-3572-43c9-a09d-0ae1ce06606c",
   "metadata": {
    "tags": []
   },
   "outputs": [],
   "source": [
    "# Convert dates to same format\n",
    "df.order_date = pd.to_datetime(df.order_date, format='%m-%d-%Y', errors='coerce').fillna(pd.to_datetime(df.order_date, format='%m/%d/%Y', errors='coerce'))\n",
    "\n",
    "# Convert to unix time stamp\n",
    "#df.order_date = df.order_date.apply(lambda x: x.timestamp() if pd.notnull(x) else None)\n",
    "\n"
   ]
  },
  {
   "cell_type": "code",
   "execution_count": 19,
   "id": "8cc38cfa-1a2e-473b-9172-ce05098e56bc",
   "metadata": {
    "tags": []
   },
   "outputs": [
    {
     "data": {
      "text/html": [
       "<div>\n",
       "<style scoped>\n",
       "    .dataframe tbody tr th:only-of-type {\n",
       "        vertical-align: middle;\n",
       "    }\n",
       "\n",
       "    .dataframe tbody tr th {\n",
       "        vertical-align: top;\n",
       "    }\n",
       "\n",
       "    .dataframe thead th {\n",
       "        text-align: right;\n",
       "    }\n",
       "</style>\n",
       "<table border=\"1\" class=\"dataframe\">\n",
       "  <thead>\n",
       "    <tr style=\"text-align: right;\">\n",
       "      <th></th>\n",
       "      <th>order_no</th>\n",
       "      <th>customer_no</th>\n",
       "      <th>order_total</th>\n",
       "      <th>order_date</th>\n",
       "    </tr>\n",
       "  </thead>\n",
       "  <tbody>\n",
       "    <tr>\n",
       "      <th>6</th>\n",
       "      <td>2356363</td>\n",
       "      <td>2124</td>\n",
       "      <td>258936.12</td>\n",
       "      <td>2019-04-29</td>\n",
       "    </tr>\n",
       "    <tr>\n",
       "      <th>5</th>\n",
       "      <td>45235825</td>\n",
       "      <td>TV4663</td>\n",
       "      <td>65.42</td>\n",
       "      <td>2019-04-29</td>\n",
       "    </tr>\n",
       "    <tr>\n",
       "      <th>2</th>\n",
       "      <td>4465241327</td>\n",
       "      <td>AK45765</td>\n",
       "      <td>1103.36</td>\n",
       "      <td>2019-04-25</td>\n",
       "    </tr>\n",
       "    <tr>\n",
       "      <th>3</th>\n",
       "      <td>4465241327</td>\n",
       "      <td>AK45765</td>\n",
       "      <td>1103.36</td>\n",
       "      <td>2019-04-25</td>\n",
       "    </tr>\n",
       "    <tr>\n",
       "      <th>1</th>\n",
       "      <td>45251825</td>\n",
       "      <td>CJ458565</td>\n",
       "      <td>14.00</td>\n",
       "      <td>2019-04-25</td>\n",
       "    </tr>\n",
       "    <tr>\n",
       "      <th>4</th>\n",
       "      <td>413853121</td>\n",
       "      <td>CM458565</td>\n",
       "      <td>0.00</td>\n",
       "      <td>2019-04-24</td>\n",
       "    </tr>\n",
       "    <tr>\n",
       "      <th>0</th>\n",
       "      <td>452517125</td>\n",
       "      <td>CM458565</td>\n",
       "      <td>141.25</td>\n",
       "      <td>2019-01-10</td>\n",
       "    </tr>\n",
       "    <tr>\n",
       "      <th>7</th>\n",
       "      <td>452519232</td>\n",
       "      <td>NaN</td>\n",
       "      <td>141.25</td>\n",
       "      <td>2019-01-10</td>\n",
       "    </tr>\n",
       "  </tbody>\n",
       "</table>\n",
       "</div>"
      ],
      "text/plain": [
       "     order_no customer_no  order_total order_date\n",
       "6     2356363        2124    258936.12 2019-04-29\n",
       "5    45235825      TV4663        65.42 2019-04-29\n",
       "2  4465241327     AK45765      1103.36 2019-04-25\n",
       "3  4465241327     AK45765      1103.36 2019-04-25\n",
       "1    45251825    CJ458565        14.00 2019-04-25\n",
       "4   413853121    CM458565         0.00 2019-04-24\n",
       "0   452517125    CM458565       141.25 2019-01-10\n",
       "7   452519232         NaN       141.25 2019-01-10"
      ]
     },
     "execution_count": 19,
     "metadata": {},
     "output_type": "execute_result"
    }
   ],
   "source": [
    "# Sort data\n",
    "df.sort_values(by=['order_date', 'order_total'], ascending=[False, False], inplace=True)\n",
    "df"
   ]
  },
  {
   "cell_type": "code",
   "execution_count": 20,
   "id": "c0bae8d2-4343-41b0-94bf-f741a71b5991",
   "metadata": {
    "tags": []
   },
   "outputs": [
    {
     "name": "stdout",
     "output_type": "stream",
     "text": [
      "\n",
      "Highest order: 258936.12\n",
      "Most recent order: 2019-04-29 00:00:00\n",
      "Orders on 4/25: 3\n",
      "Orders with missing customer no: 1\n",
      "Total order amount: $261504.76\n",
      "\n"
     ]
    }
   ],
   "source": [
    "# Calculate metrics\n",
    "\n",
    "highest_order = df.loc[df.order_total.idxmax()]\n",
    "\n",
    "most_recent = df.loc[df.order_date.idxmax()]\n",
    "\n",
    "orders_on_4_25 = df[df.order_date == pd.to_datetime('2019-04-25')]\n",
    "\n",
    "missing_customer_no = df[df.customer_no.isnull()]\n",
    "\n",
    "total_order_amount = df.order_total.sum()\n",
    "\n",
    "print(f\"\"\"\n",
    "Highest order: {highest_order.order_total}\n",
    "Most recent order: {most_recent.order_date}\n",
    "Orders on 4/25: {len(orders_on_4_25)}\n",
    "Orders with missing customer no: {len(missing_customer_no)}\n",
    "Total order amount: ${total_order_amount}\n",
    "\"\"\")\n"
   ]
  },
  {
   "cell_type": "code",
   "execution_count": null,
   "id": "35617926-9e12-4b4e-a855-5a302916a66a",
   "metadata": {},
   "outputs": [],
   "source": []
  }
 ],
 "metadata": {
  "kernelspec": {
   "display_name": "Python 3 (ipykernel)",
   "language": "python",
   "name": "python3"
  },
  "language_info": {
   "codemirror_mode": {
    "name": "ipython",
    "version": 3
   },
   "file_extension": ".py",
   "mimetype": "text/x-python",
   "name": "python",
   "nbconvert_exporter": "python",
   "pygments_lexer": "ipython3",
   "version": "3.11.5"
  }
 },
 "nbformat": 4,
 "nbformat_minor": 5
}
