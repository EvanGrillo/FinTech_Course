{
 "cells": [
  {
   "cell_type": "code",
   "execution_count": 1,
   "id": "ccd2e2a0-fb1b-406e-8210-6a0de1766315",
   "metadata": {
    "tags": []
   },
   "outputs": [
    {
     "name": "stdout",
     "output_type": "stream",
     "text": [
      "(100, 7)\n"
     ]
    },
    {
     "data": {
      "text/plain": [
       "first_name     100\n",
       "last_name      100\n",
       "email          100\n",
       "address        100\n",
       "zip            100\n",
       "credit_card    100\n",
       "sale_price     100\n",
       "dtype: int64"
      ]
     },
     "execution_count": 1,
     "metadata": {},
     "output_type": "execute_result"
    }
   ],
   "source": [
    "import pandas as pd\n",
    "from pathlib import Path\n",
    "\n",
    "sales_path = Path(\"Resources/sales_no_header.csv\")\n",
    "\n",
    "# Read the file without a header\n",
    "df = pd.read_csv(sales_path, header=None)\n",
    "\n",
    "# Read first 5 rows\n",
    "df.head()\n",
    "\n",
    "# Rewrite the column names \n",
    "df.columns=[\"full_name\", \"email\", \"address\", \"zip\", \"credit_card\", \"sale_price\"]\n",
    "\n",
    "#create cols by splitting values in series\n",
    "split_names = df['full_name'].str.split(' ', expand=True)\n",
    "df.insert(loc=0, column='first_name', value=split_names[0])\n",
    "df.insert(loc=1, column='last_name', value=split_names[1])\n",
    "\n",
    "# alternatively\n",
    "#df[['first_name', 'last_name']] = df.full_name.str.split(' ', expand=True)\n",
    "\n",
    "#drop columns by name, inplace\n",
    "df.drop(columns=['full_name'], inplace=True)\n",
    "\n",
    "# shape returns tuple of number of rows, columns\n",
    "print(df.shape)\n",
    "\n",
    "# list columns and row count\n",
    "df.count()\n"
   ]
  },
  {
   "cell_type": "code",
   "execution_count": null,
   "id": "82e0970b-69f8-4d51-a83a-f596308b9283",
   "metadata": {},
   "outputs": [],
   "source": []
  }
 ],
 "metadata": {
  "kernelspec": {
   "display_name": "Python 3 (ipykernel)",
   "language": "python",
   "name": "python3"
  },
  "language_info": {
   "codemirror_mode": {
    "name": "ipython",
    "version": 3
   },
   "file_extension": ".py",
   "mimetype": "text/x-python",
   "name": "python",
   "nbconvert_exporter": "python",
   "pygments_lexer": "ipython3",
   "version": "3.11.5"
  }
 },
 "nbformat": 4,
 "nbformat_minor": 5
}
